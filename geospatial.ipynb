{
 "cells": [
  {
   "cell_type": "markdown",
   "metadata": {},
   "source": [
    "# Spatial Statistics and Geospatial data visualization\n",
    "\n",
    "## Key concepts in Geospatial data\n",
    "\n",
    "### Raster and vector data\n",
    "\n",
    "Raster data is a grid of pixels, each pixel representing a value. Raster data is often used to represent continuous data, such as elevation, temperature, or precipitation. Raster data is often stored as a file with a .tif extension.\n",
    "\n",
    "Vector data is a collection of points, lines, and polygons. Vector data is often used to represent discrete data, such as the location of a city, the boundaries of a country, or the location of a river. Vector data is often stored as a file with a .shp extension."
   ]
  },
  {
   "cell_type": "code",
   "execution_count": null,
   "metadata": {},
   "outputs": [],
   "source": [
    "import pandas as pd\n",
    "import geopandas as gpd\n",
    "import matplotlib.pyplot as plt\n",
    "import rasterio as rs\n",
    "import rasterio.plot\n",
    "\n",
    "import tempfile\n",
    "\n",
    "import numpy as np\n",
    "import rpy2.robjects as ro\n",
    "import rpy2.robjects.numpy2ri\n",
    "import rpy2.robjects.packages as rpackages\n",
    "\n",
    "rpy2.robjects.numpy2ri.activate()"
   ]
  },
  {
   "cell_type": "code",
   "execution_count": null,
   "metadata": {},
   "outputs": [],
   "source": [
    "# Then, using the language of your choice (R or Python), design a non-interactive plot of French school districts\n",
    "\n",
    "# Read in the data in .shp format\n",
    "frenchAcademyDf = gpd.read_file('academies-20160209-shp/academies-20160209.shp')\n",
    "frenchAcademyDf"
   ]
  },
  {
   "cell_type": "code",
   "execution_count": null,
   "metadata": {},
   "outputs": [],
   "source": [
    "# Keep only metropolitan France\n",
    "# Plot and color the data\n",
    "colors = [plt.get_cmap('viridis')(i * 20) for i in range(len(frenchAcademyDf[\"wikipedia\"]))]\n",
    "frenchAcademyDf.clip([-5, 41, 10, 51]).plot(color=colors, edgecolor='black')"
   ]
  },
  {
   "cell_type": "code",
   "execution_count": null,
   "metadata": {},
   "outputs": [],
   "source": [
    "# Find a shapefile representing the entire world, \n",
    "# and design a set of maps based on different pro-jections / coordinate reference systems (CRS) (ex.: Mercator, etc.).\n",
    "\n",
    "# Read in the data in .shp format\n",
    "worldDf = gpd.read_file('world-administrative-boundaries/world-administrative-boundaries.shp')\n",
    "worldDf.plot()"
   ]
  },
  {
   "cell_type": "code",
   "execution_count": null,
   "metadata": {},
   "outputs": [],
   "source": [
    "# Mercator projection\n",
    "worldDf.to_crs(epsg=3395).plot(cmap='viridis')"
   ]
  },
  {
   "cell_type": "code",
   "execution_count": null,
   "metadata": {},
   "outputs": [],
   "source": [
    "# Lambert Azimuthal Equal Area projection\n",
    "worldDf.to_crs(epsg=9822).plot(cmap='viridis')"
   ]
  },
  {
   "cell_type": "code",
   "execution_count": null,
   "metadata": {},
   "outputs": [],
   "source": [
    "# Polar Stereographic projection\n",
    "worldDf.to_crs(epsg=3031).plot(cmap='viridis')"
   ]
  },
  {
   "cell_type": "markdown",
   "metadata": {},
   "source": [
    "Write down a paragraph (in your notebook only) explaining the concept of CRS.\n",
    "\n",
    "CRS means Coordinate Reference System and is a framework used to precisely measure locations on the surface of the Earth as coordinates. It is thus the application of the abstract mathematics of coordinate systems and analytic geometry to geographic space."
   ]
  },
  {
   "cell_type": "code",
   "execution_count": null,
   "metadata": {},
   "outputs": [],
   "source": [
    "# Download a raster dataset from the SRTM website (elevation data from the entire world, +-30 meters in precision). Design a 2D map of the area you selected. The size of the area of interest mostly depends upon your laptop’s computing power, since rendering a map can be CPU intensive.\n",
    "\n",
    "# Read in the data in .tif format\n",
    "img = rs.open('output_SRTMGL1.tif')\n",
    "\n",
    "# Plot the data\n",
    "rs.plot.show(img, cmap='terrain')"
   ]
  },
  {
   "cell_type": "markdown",
   "metadata": {},
   "source": [
    "### Digital Elevation Models\n",
    "\n"
   ]
  },
  {
   "cell_type": "code",
   "execution_count": null,
   "metadata": {},
   "outputs": [],
   "source": [
    "def rayshade(z, img_path=None, zscale=10, fov=0, theta=135, zoom=0.75, phi=45, windowsize=(1000, 1000)):\n",
    "    \n",
    "    # Output path.\n",
    "    if not img_path:\n",
    "        img_path = tempfile.NamedTemporaryFile(suffix='.png').name\n",
    "    \n",
    "    # Import needed packages.\n",
    "    rayshader = rpackages.importr('rayshader')\n",
    "    \n",
    "    # Convert array to matrix.\n",
    "    z = np.asarray(z)\n",
    "    rows, cols, _ = z.shape\n",
    "    z_mat = ro.r.matrix(z, nrow=rows, ncol=cols)\n",
    "    ro.globalenv['elmat'] = z_mat\n",
    "    \n",
    "    # Save python state to r.\n",
    "    ro.globalenv['img_path'] = img_path\n",
    "    ro.globalenv['zscale'] = zscale\n",
    "    ro.globalenv['fov'] = fov\n",
    "    ro.globalenv['theta'] = theta\n",
    "    ro.globalenv['zoom'] = zoom\n",
    "    ro.globalenv['phi'] = phi\n",
    "    ro.globalenv['windowsize'] = ro.IntVector(windowsize)\n",
    "    \n",
    "    # Do the render.\n",
    "    ro.r('''\n",
    "        elmat %>%\n",
    "          sphere_shade(texture = \"desert\") %>%\n",
    "          add_water(detect_water(elmat), color = \"desert\") %>%\n",
    "          add_shadow(ray_shade(elmat, zscale = 3), 0.5) %>%\n",
    "          add_shadow(ambient_shade(elmat), 0) %>%\n",
    "          plot_3d(elmat, zscale = zscale, fov = fov, theta = theta, zoom = zoom, phi = phi, windowsize = windowsize)\n",
    "        Sys.sleep(0.2)\n",
    "        render_snapshot(img_path)\n",
    "    ''')\n",
    "    \n",
    "    # Return path.\n",
    "    return img_path"
   ]
  },
  {
   "cell_type": "code",
   "execution_count": null,
   "metadata": {},
   "outputs": [],
   "source": [
    "SRTMG = plt.imread('output_SRTMGL1.tif')\n",
    "img_path = rayshade(SRTMG)\n",
    "\n",
    "from IPython.display import Image\n",
    "Image(filename=img_path) "
   ]
  }
 ],
 "metadata": {
  "kernelspec": {
   "display_name": "Python 3.10.6 64-bit",
   "language": "python",
   "name": "python3"
  },
  "language_info": {
   "codemirror_mode": {
    "name": "ipython",
    "version": 3
   },
   "file_extension": ".py",
   "mimetype": "text/x-python",
   "name": "python",
   "nbconvert_exporter": "python",
   "pygments_lexer": "ipython3",
   "version": "3.10.6"
  },
  "orig_nbformat": 4,
  "vscode": {
   "interpreter": {
    "hash": "aee8b7b246df8f9039afb4144a1f6fd8d2ca17a180786b69acc140d282b71a49"
   }
  }
 },
 "nbformat": 4,
 "nbformat_minor": 2
}
