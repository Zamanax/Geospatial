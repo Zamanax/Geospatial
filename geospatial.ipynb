{
 "cells": [
  {
   "cell_type": "markdown",
   "metadata": {},
   "source": [
    "# Spatial Statistics and Geospatial data visualization\n",
    "\n",
    "## Key concepts in Geospatial data\n",
    "\n",
    "### Raster and vector data\n",
    "\n",
    "Raster data is a grid of pixels, each pixel representing a value. Raster data is often used to represent continuous data, such as elevation, temperature, or precipitation. Raster data is often stored as a file with a .tif extension.\n",
    "\n",
    "Vector data is a collection of points, lines, and polygons. Vector data is often used to represent discrete data, such as the location of a city, the boundaries of a country, or the location of a river. Vector data is often stored as a file with a .shp extension."
   ]
  },
  {
   "cell_type": "code",
   "execution_count": null,
   "metadata": {},
   "outputs": [],
   "source": [
    "import pandas as pd\n",
    "import geopandas as gpd\n",
    "import matplotlib.pyplot as plt\n",
    "import rasterio as rs\n",
    "import rasterio.plot\n",
    "\n",
    "import tempfile\n",
    "\n",
    "import numpy as np\n",
    "import rpy2.robjects as ro\n",
    "import rpy2.robjects.numpy2ri\n",
    "import rpy2.robjects.packages as rpackages\n",
    "\n",
    "import folium\n",
    "import folium.plugins\n",
    "\n",
    "from math import log10\n",
    "\n",
    "rpy2.robjects.numpy2ri.activate()"
   ]
  },
  {
   "cell_type": "code",
   "execution_count": null,
   "metadata": {},
   "outputs": [],
   "source": [
    "# Then, using the language of your choice (R or Python), design a non-interactive plot of French school districts\n",
    "\n",
    "# Read in the data in .shp format\n",
    "frenchAcademyDf = gpd.read_file('academies-20160209-shp/academies-20160209.shp')\n",
    "frenchAcademyDf"
   ]
  },
  {
   "cell_type": "code",
   "execution_count": null,
   "metadata": {},
   "outputs": [],
   "source": [
    "# Keep only metropolitan France\n",
    "# Plot and color the data\n",
    "colors = [plt.get_cmap('viridis')(i * 20) for i in range(len(frenchAcademyDf[\"wikipedia\"]))]\n",
    "frenchAcademyDf.clip([-5, 41, 10, 51]).plot(color=colors, edgecolor='black')"
   ]
  },
  {
   "cell_type": "code",
   "execution_count": null,
   "metadata": {},
   "outputs": [],
   "source": [
    "# Find a shapefile representing the entire world, \n",
    "# and design a set of maps based on different pro-jections / coordinate reference systems (CRS) (ex.: Mercator, etc.).\n",
    "\n",
    "# Read in the data in .shp format\n",
    "worldDf = gpd.read_file('world-administrative-boundaries/world-administrative-boundaries.shp')\n",
    "worldDf.plot()"
   ]
  },
  {
   "cell_type": "code",
   "execution_count": null,
   "metadata": {},
   "outputs": [],
   "source": [
    "# Mercator projection\n",
    "worldDf.to_crs(epsg=3395).plot(cmap='viridis')"
   ]
  },
  {
   "cell_type": "code",
   "execution_count": null,
   "metadata": {},
   "outputs": [],
   "source": [
    "# Lambert Azimuthal Equal Area projection\n",
    "worldDf.to_crs(epsg=9822).plot(cmap='viridis')"
   ]
  },
  {
   "cell_type": "code",
   "execution_count": null,
   "metadata": {},
   "outputs": [],
   "source": [
    "# Polar Stereographic projection\n",
    "worldDf.to_crs(epsg=3031).plot(cmap='viridis')"
   ]
  },
  {
   "cell_type": "markdown",
   "metadata": {},
   "source": [
    "Write down a paragraph (in your notebook only) explaining the concept of CRS.\n",
    "\n",
    "CRS means Coordinate Reference System and is a framework used to precisely measure locations on the surface of the Earth as coordinates. It is thus the application of the abstract mathematics of coordinate systems and analytic geometry to geographic space."
   ]
  },
  {
   "cell_type": "code",
   "execution_count": null,
   "metadata": {},
   "outputs": [],
   "source": [
    "# Download a raster dataset from the SRTM website (elevation data from the entire world, +-30 meters in precision). Design a 2D map of the area you selected. The size of the area of interest mostly depends upon your laptop’s computing power, since rendering a map can be CPU intensive.\n",
    "\n",
    "# Read in the data in .tif format\n",
    "img = rs.open('output_SRTMGL1.tif')\n",
    "\n",
    "# Plot the data\n",
    "rs.plot.show(img, cmap='terrain', title='Elevation of the World', )"
   ]
  },
  {
   "cell_type": "markdown",
   "metadata": {},
   "source": [
    "### Digital Elevation Models\n",
    "\n"
   ]
  },
  {
   "cell_type": "code",
   "execution_count": null,
   "metadata": {},
   "outputs": [],
   "source": [
    "def rayshade(z, img_path=None, zscale=10, fov=0, theta=135, zoom=0.75, phi=45, windowsize=(1000, 1000)):\n",
    "    \n",
    "    # Output path.\n",
    "    if not img_path:\n",
    "        img_path = tempfile.NamedTemporaryFile(suffix='.png').name\n",
    "    \n",
    "    # Import needed packages.\n",
    "    rayshader = rpackages.importr('rayshader')\n",
    "    \n",
    "    # Convert array to matrix.\n",
    "    z = np.asarray(z)\n",
    "    rows, cols, _ = z.shape\n",
    "    z_mat = ro.r.matrix(z, nrow=rows, ncol=cols)\n",
    "    ro.globalenv['elmat'] = z_mat\n",
    "    \n",
    "    # Save python state to r.\n",
    "    ro.globalenv['img_path'] = img_path\n",
    "    ro.globalenv['zscale'] = zscale\n",
    "    ro.globalenv['fov'] = fov\n",
    "    ro.globalenv['theta'] = theta\n",
    "    ro.globalenv['zoom'] = zoom\n",
    "    ro.globalenv['phi'] = phi\n",
    "    ro.globalenv['windowsize'] = ro.IntVector(windowsize)\n",
    "    \n",
    "    # Do the render.\n",
    "    ro.r('''\n",
    "        elmat %>%\n",
    "          sphere_shade(texture = \"desert\") %>%\n",
    "          add_water(detect_water(elmat), color = \"desert\") %>%\n",
    "          add_shadow(ray_shade(elmat, zscale = 3), 0.5) %>%\n",
    "          add_shadow(ambient_shade(elmat), 0) %>%\n",
    "          plot_3d(elmat, zscale = zscale, fov = fov, theta = theta, zoom = zoom, phi = phi, windowsize = windowsize)\n",
    "        Sys.sleep(0.2)\n",
    "        render_snapshot(img_path)\n",
    "    ''')\n",
    "    \n",
    "    # Return path.\n",
    "    return img_path"
   ]
  },
  {
   "cell_type": "code",
   "execution_count": null,
   "metadata": {},
   "outputs": [],
   "source": [
    "SRTMG = plt.imread('output_SRTMGL1.tif')\n",
    "img_path = rayshade(SRTMG)\n",
    "\n",
    "from IPython.display import Image\n",
    "Image(filename=img_path) "
   ]
  },
  {
   "cell_type": "markdown",
   "metadata": {},
   "source": [
    "## Interactive data visualization with Leaflet or Folium"
   ]
  },
  {
   "cell_type": "code",
   "execution_count": null,
   "metadata": {},
   "outputs": [],
   "source": [
    "# Create an interactive choropleth of French school districts\n",
    "\n",
    "# Create a column in frenchAcademyDf that contains the percentage of exam success generated randomly uniformly between 0 and 100\n",
    "frenchAcademyDf['perc. exam success'] = np.random.randint(0, 100, len(frenchAcademyDf))\n",
    "\n",
    "frenchAcademyDf.explore(column='perc. exam success', cmap='viridis')\n"
   ]
  },
  {
   "cell_type": "code",
   "execution_count": null,
   "metadata": {},
   "outputs": [],
   "source": [
    "# importing new datasets\n",
    "\n",
    "phdv3 = pd.read_csv('PhD.v3.csv', sep=',', index_col=0)\n",
    "\n",
    "phdv3[\"Date de soutenance\"] = pd.to_datetime(phdv3[\"Date de soutenance\"], format='%d-%m-%y')\n",
    "\n",
    "opendata = pd.read_csv('opendata.csv', sep=';')\n",
    "opendata[\"etablissement_rec\"] = opendata[\"Libellé\"].astype(str)\n",
    "\n",
    "phdOpendata = pd.merge(phdv3, opendata, on='etablissement_rec', how='inner')\n",
    "phdOpendata[\"Latitude\"] = phdOpendata[\"Géolocalisation\"].str.split(\",\", expand=True)[0].astype(float)\n",
    "phdOpendata[\"Longitude\"] = phdOpendata[\"Géolocalisation\"].str.split(\",\", expand=True)[1].astype(float)\n",
    "phdOpendata"
   ]
  },
  {
   "cell_type": "code",
   "execution_count": null,
   "metadata": {},
   "outputs": [],
   "source": [
    "phdGeoCounts = pd.DataFrame(phdOpendata[[\"Latitude\", \"Longitude\", \"Date de soutenance\", \"etablissement_rec\"]].value_counts())\n",
    "phdGeoCounts = phdGeoCounts.reset_index()\n",
    "phdGeoCounts.columns = [\"Latitude\", \"Longitude\", \"Date de soutenance\",\"Etablissement\", \"Count\"]\n",
    "phdGeoCounts[\"Etablissement\"] = phdGeoCounts[\"Etablissement\"].astype(str)\n",
    "phdGeoCounts[\"Count\"] = phdGeoCounts[\"Count\"].astype(float)\n",
    "phdGeoCounts"
   ]
  },
  {
   "cell_type": "code",
   "execution_count": null,
   "metadata": {},
   "outputs": [],
   "source": [
    "# bubble map of number of thesis per establishment in phdOpendata\n",
    "\n",
    "m = folium.Map(location=[48.8566, 2.3522], zoom_start=6)\n",
    "\n",
    "for i in range(0,len(phdGeoCounts)):\n",
    "    folium.Circle(\n",
    "        location=[phdGeoCounts.iloc[i]['Latitude'], phdGeoCounts.iloc[i]['Longitude']],\n",
    "        popup=phdGeoCounts.iloc[i]['Etablissement'],\n",
    "        radius=phdGeoCounts.iloc[i]['Count'],\n",
    "        color='crimson',\n",
    "        fill=True,\n",
    "        fill_color='crimson'\n",
    "    ).add_to(m)\n",
    "\n",
    "# Add a time slider depending on \"Date de soutenance\"\n",
    "# m.add_child(folium.plugins.TimestampedGeoJson(\n",
    "#     {'type': 'FeatureCollection',\n",
    "#         'features': [{'type': 'Feature',\n",
    "#             'geometry': {'type': 'Point',\n",
    "#                 'coordinates': [phdGeoCounts.iloc[i]['Longitude'], phdGeoCounts.iloc[i]['Latitude']]\n",
    "#                 },\n",
    "#             'properties': {'time': phdGeoCounts.iloc[i]['Date de soutenance'].strftime('%Y/%m/%d'),\n",
    "#                 'style': {'color': 'crimson'},\n",
    "#                 'icon': 'circle',\n",
    "#                 'iconstyle': {\n",
    "#                     'fillColor': 'crimson',\n",
    "#                     'fillOpacity': 0.5,\n",
    "#                     'stroke': 'false',\n",
    "#                     'radius': log10(phdGeoCounts.iloc[i]['Count'])\n",
    "#                     }\n",
    "#             }\n",
    "#         }\n",
    "#     for i in range(0,len(phdGeoCounts))]\n",
    "#     },\n",
    "#     period='P1M',\n",
    "#     add_last_point=True,\n",
    "#     auto_play=True,\n",
    "#     loop=True,\n",
    "#     max_speed=1,\n",
    "#     loop_button=True,\n",
    "#     date_options='YYYY/MM/DD',\n",
    "#     time_slider_drag_update=True))\n",
    "\n",
    "\n",
    "m"
   ]
  },
  {
   "cell_type": "code",
   "execution_count": null,
   "metadata": {},
   "outputs": [],
   "source": []
  }
 ],
 "metadata": {
  "kernelspec": {
   "display_name": "Python 3.9.1 64-bit",
   "language": "python",
   "name": "python3"
  },
  "language_info": {
   "codemirror_mode": {
    "name": "ipython",
    "version": 3
   },
   "file_extension": ".py",
   "mimetype": "text/x-python",
   "name": "python",
   "nbconvert_exporter": "python",
   "pygments_lexer": "ipython3",
   "version": "3.9.1"
  },
  "orig_nbformat": 4,
  "vscode": {
   "interpreter": {
    "hash": "11938c6bc6919ae2720b4d5011047913343b08a43b18698fd82dedb0d4417594"
   }
  }
 },
 "nbformat": 4,
 "nbformat_minor": 2
}
